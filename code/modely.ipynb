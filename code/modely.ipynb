{
 "cells": [
  {
   "cell_type": "code",
   "execution_count": 26,
   "metadata": {},
   "outputs": [],
   "source": [
    "import pandas as pd\n",
    "import sqlite3\n",
    "db_file = fr\"C:\\Users\\halik\\OneDrive\\development\\github\\sws\\code\\parametry8.db\"\n",
    "conn = sqlite3.connect(db_file, isolation_level=None, detect_types=sqlite3.PARSE_COLNAMES)\n",
    "db_df = pd.read_sql_query(\"SELECT * FROM nutneParametry\", conn)\n",
    "db_df.to_csv('parametry8.csv', index=False)\n"
   ]
  },
  {
   "cell_type": "code",
   "execution_count": 29,
   "metadata": {},
   "outputs": [
    {
     "name": "stdout",
     "output_type": "stream",
     "text": [
      "r*r pro linearni regresi je 0.5360839919861069\n"
     ]
    },
    {
     "data": {
      "image/png": "[encoded data removed]",
      "text/plain": [
       "<Figure size 640x480 with 1 Axes>"
      ]
     },
     "metadata": {},
     "output_type": "display_data"
    }
   ],
   "source": [
    "import sqlite3\n",
    "import pandas as pd\n",
    "import matplotlib.pyplot as plt\n",
    "from scipy import stats\n",
    "\n",
    "#get data\n",
    "df = pd.read_csv(fr\"C:\\Users\\halik\\OneDrive\\development\\github\\sws\\code\\parametry8.csv\")\n",
    "x = df[\"Užitná\"]\n",
    "y = df[\"Cena\"]\n",
    "\n",
    "# normalize data\n",
    "# copy the data\n",
    "df_min_max_scaled = df.copy()\n",
    "columns = [\"Užitná\", \"Cena\"]\n",
    "for column in columns:\n",
    "    df_min_max_scaled[column] = (df_min_max_scaled[column] - df_min_max_scaled[column].min()) / (df_min_max_scaled[column].max() - df_min_max_scaled[column].min())\t\n",
    "# view normalized data\n",
    "#display(df_min_max_scaled)\n",
    "df_normalized = df_min_max_scaled\n",
    "\n",
    "def linear_regresion(x):\n",
    "    return slope * x + intercept\n",
    "\n",
    "#draw linear regresion\n",
    "\n",
    "x = df_normalized[\"Užitná\"]\n",
    "y = df_normalized[\"Cena\"]\n",
    "plt.scatter(x, y)\n",
    "slope, intercept, r, p, std_err = stats.linregress(x, y)\n",
    "mymodel = list(map(linear_regresion, x))\n",
    "plt.plot(x, mymodel)\n",
    "print(f\"r*r pro linearni regresi je {r*r}\")\n",
    "plt.show()\n",
    "\n"
   ]
  },
  {
   "cell_type": "code",
   "execution_count": 57,
   "metadata": {},
   "outputs": [
    {
     "name": "stdout",
     "output_type": "stream",
     "text": [
      "                                 OLS Regression Results                                \n",
      "=======================================================================================\n",
      "Dep. Variable:                aktivni   R-squared (uncentered):                   0.993\n",
      "Model:                            OLS   Adj. R-squared (uncentered):              0.993\n",
      "Method:                 Least Squares   F-statistic:                              1765.\n",
      "Date:                Sun, 29 Jan 2023   Prob (F-statistic):                    2.68e-74\n",
      "Time:                        18:45:28   Log-Likelihood:                         -600.08\n",
      "No. Observations:                  76   AIC:                                      1212.\n",
      "Df Residuals:                      70   BIC:                                      1226.\n",
      "Df Model:                           6                                                  \n",
      "Covariance Type:            nonrobust                                                  \n",
      "==============================================================================\n",
      "                 coef    std err          t      P>|t|      [0.025      0.975]\n",
      "------------------------------------------------------------------------------\n",
      "datum        -48.7717     15.360     -3.175      0.002     -79.406     -18.137\n",
      "repo           1.7417      0.818      2.129      0.037       0.110       3.373\n",
      "cena           0.0195      0.015      1.292      0.201      -0.011       0.050\n",
      "doba          51.0953      6.105      8.369      0.000      38.919      63.271\n",
      "nove           2.0731      0.207     10.000      0.000       1.660       2.487\n",
      "zobrazeni     -1.7351      4.382     -0.396      0.693     -10.475       7.005\n",
      "==============================================================================\n",
      "Omnibus:                        0.116   Durbin-Watson:                   1.812\n",
      "Prob(Omnibus):                  0.944   Jarque-Bera (JB):                0.248\n",
      "Skew:                           0.082   Prob(JB):                        0.883\n",
      "Kurtosis:                       2.773   Cond. No.                     1.80e+04\n",
      "==============================================================================\n",
      "\n",
      "Notes:\n",
      "[1] R² is computed without centering (uncentered) since the model does not contain a constant.\n",
      "[2] Standard Errors assume that the covariance matrix of the errors is correctly specified.\n",
      "[3] The condition number is large, 1.8e+04. This might indicate that there are\n",
      "strong multicollinearity or other numerical problems.\n",
      "Mean Squared Error: 0         NaN\n",
      "4         NaN\n",
      "10        NaN\n",
      "12        NaN\n",
      "18        NaN\n",
      "22        NaN\n",
      "26        NaN\n",
      "30        NaN\n",
      "31        NaN\n",
      "33        NaN\n",
      "42        NaN\n",
      "53        NaN\n",
      "64        NaN\n",
      "69        NaN\n",
      "73        NaN\n",
      "77        NaN\n",
      "79        NaN\n",
      "80        NaN\n",
      "85        NaN\n",
      "94        NaN\n",
      "aktivni   NaN\n",
      "dtype: float64\n",
      "Prediction for future months: 0   -1463.151248\n",
      "1   -2828.759079\n",
      "2   -4340.682035\n",
      "3   -5803.833282\n",
      "4   -7315.756238\n",
      "dtype: float64\n"
     ]
    }
   ],
   "source": [
    "import pandas as pd\n",
    "import numpy as np\n",
    "from statsmodels.regression.linear_model import OLS\n",
    "from sklearn.model_selection import train_test_split\n",
    "\n",
    "# Load the data into a pandas DataFrame\n",
    "df = pd.read_csv(fr'C:\\Users\\halik\\OneDrive\\development\\github\\sws\\code\\repo.csv', delimiter=',')\n",
    "\n",
    "# Transform datum column into numerical index (line number)\n",
    "df['datum'] = range(1, len(df)+1)\n",
    "\n",
    "# Define the features and target\n",
    "features = ['datum', 'repo', 'cena', 'doba', 'nove', \"zobrazeni\"]\n",
    "target = ['aktivni']\n",
    "\n",
    "# Split the data into train and test sets\n",
    "X_train, X_test, y_train, y_test = train_test_split(df[features], df[target], test_size=0.2, random_state=42)\n",
    "\n",
    "# Fit an OLS regression model to the training data\n",
    "model = OLS(y_train, X_train).fit()\n",
    "\n",
    "# Print the summary of the model\n",
    "print(model.summary())\n",
    "\n",
    "# Predict the target for the test data\n",
    "y_pred = model.predict(X_test)\n",
    "\n",
    "# Evaluate the model by calculating the mean squared error\n",
    "mse = np.mean((y_test - y_pred)**2, axis=0)\n",
    "print(\"Mean Squared Error:\", mse)\n",
    "\n",
    "\n",
    "df = pd.read_csv(fr'C:\\Users\\halik\\OneDrive\\development\\github\\sws\\code\\repo.csv')\n",
    "df_train = df.iloc[:-5]  # split the data into train and test sets\n",
    "\n",
    "# Create a dataframe for the future months\n",
    "future_months = pd.DataFrame({'datum': pd.date_range(start=df_train['datum'].iloc[-1], periods=5, freq='M'),\n",
    "                                'repo': [0, 0, 0, 0, 0],\n",
    "                                'cena': [0, 0, 0, 0, 0],\n",
    "                                'doba': [0, 0, 0, 0, 0],\n",
    "                                'nove': [0, 0, 0, 0, 0],\n",
    "                                'zobrazeni': [0, 0, 0, 0, 0]})\n",
    "\n",
    "# Convert the integer values in 'datum' column to a pandas Timedelta\n",
    "future_months['datum'] = (future_months['datum'] - pd.Timestamp(\"1970-01-01\")) / np.timedelta64(1, 'D')\n",
    "\n",
    "future_months_pred = model.predict(future_months)\n",
    "print(\"Prediction for future months:\", future_months_pred)\n"
   ]
  },
  {
   "cell_type": "code",
   "execution_count": 30,
   "metadata": {},
   "outputs": [
    {
     "name": "stdout",
     "output_type": "stream",
     "text": [
      "[  -6663.70652363  101524.54923574  128665.83142936 -104449.29600952]\n",
      "0.5961892378301946\n"
     ]
    }
   ],
   "source": [
    "import sqlite3\n",
    "import pandas as pd\n",
    "import matplotlib.pyplot as plt\n",
    "from scipy import stats\n",
    "from sklearn import linear_model\n",
    "\n",
    "#get data\n",
    "df = pd.read_csv(fr\"C:\\Users\\halik\\OneDrive\\development\\github\\sws\\code\\parametry8.csv\")\n",
    "features = ['Užitná', 'Podlahová', 'Podlaží', 'Energetika']\n",
    "target = 'Cena'\n",
    "\n",
    "X = df[features].values.reshape(-1, len(features))\n",
    "y = df[target].values\n",
    "\n",
    "ols = linear_model.LinearRegression()\n",
    "model = ols.fit(X, y)\n",
    "print(model.coef_)\n",
    "print(model.score(X, y))\n"
   ]
  }
 ],
 "metadata": {
  "kernelspec": {
   "display_name": "Python 3",
   "language": "python",
   "name": "python3"
  },
  "language_info": {
   "codemirror_mode": {
    "name": "ipython",
    "version": 3
   },
   "file_extension": ".py",
   "mimetype": "text/x-python",
   "name": "python",
   "nbconvert_exporter": "python",
   "pygments_lexer": "ipython3",
   "version": "3.10.9"
  },
  "orig_nbformat": 4,
  "vscode": {
   "interpreter": {
    "hash": "bebc6fccf5f36669cc91bc388cdc3907f2e46fec7947c9cf009bd391508c4b4f"
   }
  }
 },
 "nbformat": 4,
 "nbformat_minor": 2
}
